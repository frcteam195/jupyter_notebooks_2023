{
 "cells": [
  {
   "cell_type": "code",
   "execution_count": 4,
   "metadata": {},
   "outputs": [
    {
     "name": "stdout",
     "output_type": "stream",
     "text": [
      "0\n",
      "2.0\n",
      "2.5\n",
      "3.0\n",
      "3.6666666666666665\n",
      "4.0\n"
     ]
    }
   ],
   "source": [
    "from threading import RLock\n",
    "from typing import List\n",
    "\n",
    "class MovingAverage():\n",
    "    def __init__(self, max_size_of_buf : int) -> None:\n",
    "        self.__size_of_buf = max_size_of_buf\n",
    "        self.__data : List[float] = [0]*self.__size_of_buf\n",
    "        self.__last_buffer_value = 0\n",
    "        self.__overwritten_buffer_value = 0\n",
    "        self.__placing_value = 0\n",
    "        self.__current_index = 0\n",
    "        self.__averaging_buffer_offset = 0\n",
    "        self.__num_valid_samples = 0\n",
    "        self.__current_average = 0\n",
    "        self.__lock = RLock()\n",
    "        pass\n",
    "\n",
    "\n",
    "    def add_sample(self, sample : float):\n",
    "        with self.__lock:\n",
    "            self.__last_buffer_value = self.__data[self.__current_index]\n",
    "            self.__current_index += 1\n",
    "            if self.__current_index >= self.__size_of_buf:\n",
    "                self.__current_index = 0\n",
    "            \n",
    "            self.__overwritten_buffer_value = self.__data[self.__current_index]\n",
    "            self.__placing_value = sample + self.__last_buffer_value\n",
    "            if self.__current_index == 0:\n",
    "                self.__averaging_buffer_offset = self.__overwritten_buffer_value\n",
    "                self.__placing_value -= self.__averaging_buffer_offset\n",
    "\n",
    "            self.__num_valid_samples += 1\n",
    "            self.__num_valid_samples = self.__size_of_buf if self.__num_valid_samples > self.__size_of_buf else self.__num_valid_samples\n",
    "            self.__data[self.__current_index] = self.__placing_value\n",
    "            self.__current_average = (self.__placing_value - self.__overwritten_buffer_value + self.__averaging_buffer_offset) / self.__num_valid_samples\n",
    "            return self.__current_average\n",
    "\n",
    "\n",
    "    def get_average(self) -> float:\n",
    "        with self.__lock:\n",
    "            return self.__current_average\n",
    "\n",
    "ma = MovingAverage(3)\n",
    "print(ma.get_average())\n",
    "ma.add_sample(2)\n",
    "print(ma.get_average())\n",
    "ma.add_sample(3)\n",
    "print(ma.get_average())\n",
    "ma.add_sample(4)\n",
    "print(ma.get_average())\n",
    "ma.add_sample(4)\n",
    "print(ma.get_average())\n",
    "ma.add_sample(4)\n",
    "print(ma.get_average())"
   ]
  }
 ],
 "metadata": {
  "kernelspec": {
   "display_name": "Python 3",
   "language": "python",
   "name": "python3"
  },
  "language_info": {
   "codemirror_mode": {
    "name": "ipython",
    "version": 3
   },
   "file_extension": ".py",
   "mimetype": "text/x-python",
   "name": "python",
   "nbconvert_exporter": "python",
   "pygments_lexer": "ipython3",
   "version": "3.8.10"
  },
  "orig_nbformat": 4,
  "vscode": {
   "interpreter": {
    "hash": "916dbcbb3f70747c44a77c7bcd40155683ae19c65e1c03b4aa3499c5328201f1"
   }
  }
 },
 "nbformat": 4,
 "nbformat_minor": 2
}
