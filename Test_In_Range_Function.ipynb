{
 "cells": [
  {
   "cell_type": "code",
   "execution_count": 4,
   "metadata": {},
   "outputs": [
    {
     "name": "stdout",
     "output_type": "stream",
     "text": [
      "True\n",
      "True\n",
      "True\n",
      "False\n",
      "False\n",
      "False\n"
     ]
    }
   ],
   "source": [
    "import numpy\n",
    "from dataclasses import dataclass\n",
    "\n",
    "def inches_to_meters(inches):\n",
    "    return inches * 0.0254\n",
    "\n",
    "@dataclass\n",
    "class Rectangle:\n",
    "    upper_left_x : float = 0\n",
    "    upper_left_y : float = 0\n",
    "    lower_right_x : float = 0\n",
    "    lower_right_y : float = 0\n",
    "\n",
    "@dataclass\n",
    "class Translation:\n",
    "    x : float = 0\n",
    "    y : float = 0\n",
    "\n",
    "@dataclass\n",
    "class Pose:\n",
    "    position : Translation = Translation()\n",
    "\n",
    "\n",
    "class RectangularRange2D:\n",
    "    def __init__(self, rectangle : Rectangle) -> None:\n",
    "        self.__A = [inches_to_meters(rectangle.lower_right_x), inches_to_meters(rectangle.lower_right_y)]\n",
    "        self.__B = [inches_to_meters(rectangle.lower_right_x), inches_to_meters(rectangle.upper_left_y)]\n",
    "        self.__C = [inches_to_meters(rectangle.upper_left_x), inches_to_meters(rectangle.upper_left_y)]\n",
    "\n",
    "        self.__AB = numpy.subtract(self.__B, self.__A)\n",
    "        self.__BC = numpy.subtract(self.__C, self.__B)\n",
    "        self.__dotABAB = numpy.dot(self.__AB, self.__AB)\n",
    "        self.__dotBCBC = numpy.dot(self.__BC, self.__BC)\n",
    "        pass\n",
    "\n",
    "    def is_within_range_2d(self, pose_meters : Pose) -> bool:\n",
    "        M = [pose_meters.position.x, pose_meters.position.y]\n",
    "        AM = numpy.subtract(M, self.__A)\n",
    "        BM = numpy.subtract(M, self.__B)\n",
    "        dotABAM = numpy.dot(self.__AB, AM)\n",
    "        dotBCBM = numpy.dot(self.__BC, BM)\n",
    "        return 0 <= dotABAM and dotABAM <= self.__dotABAB and 0 <= dotBCBM and dotBCBM <= self.__dotBCBC\n",
    "\n",
    "\n",
    "r = Rectangle(20, 20, 40, 40)\n",
    "range = RectangularRange2D(r)\n",
    "#True Tests\n",
    "p = Pose(Translation(0.635, 0.635))\n",
    "print(range.is_within_range_2d(p))\n",
    "p = Pose(Translation(0.9144, 0.635))\n",
    "print(range.is_within_range_2d(p))\n",
    "p = Pose(Translation(0.9144, 0.9144))\n",
    "print(range.is_within_range_2d(p))\n",
    "\n",
    "#False Tests\n",
    "p = Pose(Translation(0.381, 0.635))\n",
    "print(range.is_within_range_2d(p))\n",
    "p = Pose(Translation(1.143, 0.635))\n",
    "print(range.is_within_range_2d(p))\n",
    "p = Pose(Translation(1.143, 1.143))\n",
    "print(range.is_within_range_2d(p))\n",
    "\n"
   ]
  }
 ],
 "metadata": {
  "kernelspec": {
   "display_name": "Python 3",
   "language": "python",
   "name": "python3"
  },
  "language_info": {
   "codemirror_mode": {
    "name": "ipython",
    "version": 3
   },
   "file_extension": ".py",
   "mimetype": "text/x-python",
   "name": "python",
   "nbconvert_exporter": "python",
   "pygments_lexer": "ipython3",
   "version": "3.8.10 (default, Nov 14 2022, 12:59:47) \n[GCC 9.4.0]"
  },
  "orig_nbformat": 4,
  "vscode": {
   "interpreter": {
    "hash": "916dbcbb3f70747c44a77c7bcd40155683ae19c65e1c03b4aa3499c5328201f1"
   }
  }
 },
 "nbformat": 4,
 "nbformat_minor": 2
}
